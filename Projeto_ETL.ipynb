{
  "nbformat": 4,
  "nbformat_minor": 0,
  "metadata": {
    "colab": {
      "name": "Projeto_ETL.ipynb",
      "provenance": [],
      "mount_file_id": "1MXD-BWNeq8k31cI345nyFpzYcTb2qfs7",
      "authorship_tag": "ABX9TyMiihcCcaSS6YNtC2aEPXM1",
      "include_colab_link": true
    },
    "kernelspec": {
      "name": "python3",
      "display_name": "Python 3"
    },
    "language_info": {
      "name": "python"
    }
  },
  "cells": [
    {
      "cell_type": "markdown",
      "metadata": {
        "id": "view-in-github",
        "colab_type": "text"
      },
      "source": [
        "<a href=\"https://colab.research.google.com/github/andreluismiller/ETL_python/blob/main/Projeto_ETL.ipynb\" target=\"_parent\"><img src=\"https://colab.research.google.com/assets/colab-badge.svg\" alt=\"Open In Colab\"/></a>"
      ]
    },
    {
      "cell_type": "code",
      "metadata": {
        "id": "A6qmVmN9sTJF"
      },
      "source": [
        "#Importação biblioteca pandas\n",
        "\n",
        "import pandas as pd"
      ],
      "execution_count": 1,
      "outputs": []
    },
    {
      "cell_type": "code",
      "metadata": {
        "id": "-nf0-R_DsZEB"
      },
      "source": [
        "#Instalação e importação pandera\n",
        "\n",
        "!pip install pandera\n",
        "import pandera as pa"
      ],
      "execution_count": null,
      "outputs": []
    },
    {
      "cell_type": "code",
      "metadata": {
        "colab": {
          "base_uri": "https://localhost:8080/"
        },
        "id": "EH-meg95sasn",
        "outputId": "5ba2c22d-22c9-4a3d-fcca-841261ae2d57"
      },
      "source": [
        "#Importando Numpy para evitar erro FutureWarning no schema\n",
        "\n",
        "import warnings\n",
        "import numpy as np\n",
        "warnings.simplefilter(action='ignore', category=FutureWarning)\n",
        "print('x' in np.arange(5))   #returns False, without Warning"
      ],
      "execution_count": 3,
      "outputs": [
        {
          "output_type": "stream",
          "text": [
            "False\n"
          ],
          "name": "stdout"
        }
      ]
    },
    {
      "cell_type": "code",
      "metadata": {
        "id": "5ByqkIXRsd-X"
      },
      "source": [
        "#Carregar arquivo já alterando tipo de dado da coluna ocorrencia_dia\n",
        "valores_ausentes = [\"**\", \"###!\", \"####\", \"*****\", \"****\", \"NULL\"]\n",
        "df = pd.read_csv(\"/content/drive/MyDrive/ETL Python/ocorrencia_2010_2020 (1).csv\", encoding=\"utf-8\", sep=\";\", \n",
        "                 parse_dates=[\"ocorrencia_dia\"], dayfirst=True, na_values=valores_ausentes)"
      ],
      "execution_count": 4,
      "outputs": []
    },
    {
      "cell_type": "code",
      "metadata": {
        "id": "IFxua_eHsgPo"
      },
      "source": [
        "#Apagar colunas do dataframe que não interessa\n",
        "\n",
        "df.drop(columns=[\"codigo_ocorrencia1\", \"codigo_ocorrencia3\", \"codigo_ocorrencia4\", \"ocorrencia_latitude\",\n",
        "                 \"ocorrencia_longitude\", \"ocorrencia_pais\", \"investigacao_aeronave_liberada\", \"investigacao_status\",\n",
        "                 \"divulgacao_relatorio_numero\", \"divulgacao_relatorio_publicado\", \"divulgacao_dia_publicacao\",\n",
        "                 \"total_aeronaves_envolvidas\", \"ocorrencia_saida_pista\"], inplace=True)"
      ],
      "execution_count": 5,
      "outputs": []
    },
    {
      "cell_type": "code",
      "metadata": {
        "id": "mYXveXdosilH"
      },
      "source": [
        "#Criando esquema para validação dos dados\n",
        "#validando ocorrencia_hora com expressão regular\n",
        "\n",
        "schema = pa.DataFrameSchema(\n",
        "    columns = {\n",
        "        \"codigo\":pa.Column(pa.Int, required=False),\n",
        "        \"codigo_ocorrencia\":pa.Column(pa.Int, required=False),\n",
        "        \"codigo_ocorrencia2\":pa.Column(pa.Int),\n",
        "        \"ocorrencia_classificacao\":pa.Column(pa.String),\n",
        "        \"ocorrencia_cidade\":pa.Column(pa.String),\n",
        "        \"ocorrencia_uf\":pa.Column(pa.String),\n",
        "        \"ocorrencia_aerodromo\":pa.Column(pa.String, nullable=True),\n",
        "        \"ocorrencia_dia\":pa.Column(pa.DateTime),\n",
        "        \"ocorrencia_hora\":pa.Column(pa.String, pa.Check.str_matches(r'^([0-1]?[0-9]|[2][0-3]):([0-5][0-9])(:[0-5][0-9])?$'), nullable=True),\n",
        "        \"total_recomendacoes\":pa.Column(pa.Int)\n",
        "    }\n",
        ")"
      ],
      "execution_count": 6,
      "outputs": []
    },
    {
      "cell_type": "code",
      "metadata": {
        "id": "I97s9BYgso1H"
      },
      "source": [
        "#Validando schema\n",
        "\n",
        "schema.validate(df)"
      ],
      "execution_count": null,
      "outputs": []
    },
    {
      "cell_type": "code",
      "metadata": {
        "id": "MU4jHLh5yU4l"
      },
      "source": [
        "#Obter ocorrências com mais de 10 recomendações\n",
        "\n",
        "filtro = df.total_recomendacoes > 10\n",
        "df.loc[filtro]"
      ],
      "execution_count": null,
      "outputs": []
    },
    {
      "cell_type": "code",
      "metadata": {
        "id": "kSV8j82qoVKg"
      },
      "source": [
        "#Obter ocorrências com mais de 10 recomendações por cidade\n",
        "\n",
        "filtro = df.total_recomendacoes > 10\n",
        "df.loc[filtro, \"ocorrencia_cidade\"]"
      ],
      "execution_count": null,
      "outputs": []
    },
    {
      "cell_type": "code",
      "metadata": {
        "id": "L8sObNQJo7cy"
      },
      "source": [
        "#Obter total de ocorrências com mais de 10 recomendações por cidade\n",
        "\n",
        "filtro = df.total_recomendacoes > 10\n",
        "df.loc[filtro, [\"ocorrencia_cidade\", \"total_recomendacoes\"]]"
      ],
      "execution_count": null,
      "outputs": []
    },
    {
      "cell_type": "code",
      "metadata": {
        "id": "nHiAp2YIo93B"
      },
      "source": [
        "#Filtrando ocorrências do tipo \"incidente grave\"\n",
        "\n",
        "filtro = df.ocorrencia_classificacao == \"INCIDENTE GRAVE\"\n",
        "df.loc[filtro]"
      ],
      "execution_count": null,
      "outputs": []
    },
    {
      "cell_type": "code",
      "metadata": {
        "id": "_-4hnBm7qNLH"
      },
      "source": [
        "#Filtrando ocorrências do tipo \"incidente grave\" no estado de SP\n",
        "\n",
        "filtro = df.ocorrencia_classificacao == \"INCIDENTE GRAVE\"\n",
        "filtro1 = df.ocorrencia_uf == \"SP\"\n",
        "df.loc[filtro & filtro1]"
      ],
      "execution_count": null,
      "outputs": []
    },
    {
      "cell_type": "code",
      "metadata": {
        "id": "DHkVLT2Wro6n"
      },
      "source": [
        "#Filtrando ocorrências do tipo \"incidente grave\" ou \"incidente\" no estado de SP]\n",
        "\n",
        "filtro = (df.ocorrencia_classificacao == \"INCIDENTE GRAVE\") | (df.ocorrencia_classificacao == \"INCIDENTE\")\n",
        "#Alternativa: filtro = df.ocorrencia_classificacao.isin([\"INCIDENTE GRAVE\", \"INCIDENTE\"])\n",
        "filtro1 = df.ocorrencia_uf == \"SP\"\n",
        "df.loc[filtro & filtro1]"
      ],
      "execution_count": null,
      "outputs": []
    },
    {
      "cell_type": "code",
      "metadata": {
        "id": "oEM3aN2_swU3"
      },
      "source": [
        "#Filtrando ocorrências cuja cidade começa com a letra \"C\"\n",
        "\n",
        "filtro = df.ocorrencia_cidade.str[0] == \"C\"\n",
        "df.loc[filtro]"
      ],
      "execution_count": null,
      "outputs": []
    },
    {
      "cell_type": "code",
      "metadata": {
        "id": "0qz7vQh0uePG"
      },
      "source": [
        "#Filtrando ocorrências cuja cidade contém a sílaba \"MA\"\n",
        "\n",
        "filtro = df.ocorrencia_cidade.str.contains(\"MA\")\n",
        "df.loc[filtro]"
      ],
      "execution_count": null,
      "outputs": []
    },
    {
      "cell_type": "code",
      "metadata": {
        "id": "yQEACBc-vT7v"
      },
      "source": [
        "#Obter ocorrências apenas de 2015\n",
        "\n",
        "filtro = df.ocorrencia_dia.dt.year == 2015\n",
        "df.loc[filtro]"
      ],
      "execution_count": null,
      "outputs": []
    },
    {
      "cell_type": "code",
      "metadata": {
        "id": "ve1nypBovuYt"
      },
      "source": [
        "#Obter ocorrências apenas do mês 12 de 2015\n",
        "\n",
        "filtro = (df.ocorrencia_dia.dt.year == 2015) & (df.ocorrencia_dia.dt.month == 12)\n",
        "df.loc[filtro]"
      ],
      "execution_count": null,
      "outputs": []
    },
    {
      "cell_type": "code",
      "metadata": {
        "id": "K38lOeckwfvO"
      },
      "source": [
        "#Criar coluna com dados das colunas do dia e hora juntas\n",
        "\n",
        "df[\"ocorrencia_dia_hora\"] = pd.to_datetime(df.ocorrencia_dia.astype(str) + \" \" + df.ocorrencia_hora)"
      ],
      "execution_count": 18,
      "outputs": []
    },
    {
      "cell_type": "code",
      "metadata": {
        "id": "Gd7_DwdyIk06"
      },
      "source": [
        "#Atribuir ocorrências 2015 mês 03 a um novo df\n",
        "\n",
        "filtro = df.ocorrencia_dia.dt.year == 2015\n",
        "filtro1 = df.ocorrencia_dia.dt.month == 3\n",
        "df201503 = df.loc[filtro & filtro1]\n",
        "df201503"
      ],
      "execution_count": null,
      "outputs": []
    },
    {
      "cell_type": "code",
      "metadata": {
        "id": "Ek0Aq5_OJZra"
      },
      "source": [
        "#verificando valores nulos no novo df\n",
        "\n",
        "df201503.count()"
      ],
      "execution_count": null,
      "outputs": []
    },
    {
      "cell_type": "code",
      "metadata": {
        "id": "Pqfklei2JxiQ"
      },
      "source": [
        "#Agrupamento por código da ocorrencia\n",
        "\n",
        "df201503.groupby([\"codigo_ocorrencia\"]).codigo_ocorrencia.count()"
      ],
      "execution_count": null,
      "outputs": []
    },
    {
      "cell_type": "code",
      "metadata": {
        "id": "8Q7HRLXzLD3W"
      },
      "source": [
        "#Contar classificação da ocorrência mediante o código da ocorrência\n",
        "\n",
        "df201503.groupby([\"ocorrencia_classificacao\"]).codigo_ocorrencia.count()"
      ],
      "execution_count": null,
      "outputs": []
    },
    {
      "cell_type": "code",
      "metadata": {
        "id": "hlGSfIcgLauX"
      },
      "source": [
        "#Contar classificação da ocorrência mediante o código do aerodromo\n",
        "\n",
        "df201503.groupby([\"ocorrencia_classificacao\"]).ocorrencia_aerodromo.count()     #PS: contar com um coluna que pode ter valor nulo não é uma boa prática"
      ],
      "execution_count": null,
      "outputs": []
    },
    {
      "cell_type": "code",
      "metadata": {
        "id": "QcCf-hPOL-vx"
      },
      "source": [
        "#Contar classificação da ocorrência mediante registros, e não pelo valor de uma coluna\n",
        "\n",
        "df201503.groupby([\"ocorrencia_classificacao\"]).size()       #PS: boa prática"
      ],
      "execution_count": null,
      "outputs": []
    },
    {
      "cell_type": "code",
      "metadata": {
        "id": "6KbIZ5j5Me7p"
      },
      "source": [
        "#Agrupar classificação da ocorrência mediante ordem crescente\n",
        "\n",
        "df201503.groupby([\"ocorrencia_classificacao\"]).size().sort_values()     #Ordem descrescente: \".sort_values(ascending=False)\""
      ],
      "execution_count": null,
      "outputs": []
    },
    {
      "cell_type": "code",
      "metadata": {
        "id": "Bzo4U5AONGIp"
      },
      "source": [
        "#Criando df com ocorrências do ano de 2010 na região Sudeste\n",
        "\n",
        "filtro = df.ocorrencia_dia.dt.year == 2010\n",
        "filtro1 = df.ocorrencia_uf.isin([\"SP\", \"RJ\", \"MG\", \"ES\"])\n",
        "dfsudeste2010 = df.loc[filtro & filtro1]\n",
        "dfsudeste2010"
      ],
      "execution_count": null,
      "outputs": []
    },
    {
      "cell_type": "code",
      "metadata": {
        "id": "RccOy15tN5Px"
      },
      "source": [
        "#Obtendo quantidade de cada tipo de ocorrência na região Sudeste no ano de 2010\n",
        "\n",
        "dfsudeste2010.groupby([\"ocorrencia_classificacao\"]).size()"
      ],
      "execution_count": null,
      "outputs": []
    },
    {
      "cell_type": "code",
      "metadata": {
        "id": "U9fxHv3yOsdp"
      },
      "source": [
        "#Obtendo quantidade de cada tipo de ocorrência por estado da região Sudeste no ano de 2010 (output: por tipo de ocorrência)\n",
        "\n",
        "dfsudeste2010.groupby([\"ocorrencia_classificacao\", \"ocorrencia_uf\"]).size()"
      ],
      "execution_count": null,
      "outputs": []
    },
    {
      "cell_type": "code",
      "metadata": {
        "id": "2SlwD0FzPM_a"
      },
      "source": [
        "#Obtendo quantidade de cada tipo de ocorrência por estado da região Sudeste no ano de 2010 (output: por estado)\n",
        "\n",
        "dfsudeste2010.groupby([\"ocorrencia_uf\", \"ocorrencia_classificacao\"]).size()"
      ],
      "execution_count": null,
      "outputs": []
    },
    {
      "cell_type": "code",
      "metadata": {
        "id": "Lmr6pjINPKCw"
      },
      "source": [
        "#Obtendo quantidade de cada tipo de ocorrência por cidades dos estados da região Sudeste no ano de 2010\n",
        "\n",
        "dfsudeste2010.groupby([\"ocorrencia_cidade\"]).size().sort_values(ascending=False)"
      ],
      "execution_count": null,
      "outputs": []
    },
    {
      "cell_type": "code",
      "metadata": {
        "id": "_WfS383aP6w0"
      },
      "source": [
        "#Obtendo ocorrências para a cidade do Rio \n",
        "\n",
        "filtro = dfsudeste2010.ocorrencia_cidade == \"RIO DE JANEIRO\"\n",
        "dfsudeste2010.loc[filtro]"
      ],
      "execution_count": null,
      "outputs": []
    },
    {
      "cell_type": "code",
      "metadata": {
        "id": "l3A0K9PATHtj"
      },
      "source": [
        "#Obtendo o total de recomendações na cidade do Rio\n",
        "\n",
        "filtro = dfsudeste2010.ocorrencia_cidade == \"RIO DE JANEIRO\"\n",
        "dfsudeste2010.loc[filtro].total_recomendacoes.sum()\n",
        "\n",
        "#Para verificar se o número total bate com o informado, basta criar um novo filtro\n",
        "  #filtro = dfsudeste2010.ocorrencia_cidade == \"RIO DE JANEIRO\"\n",
        "  #filtro1 = dfsudeste2010.total_recomendacoes > 0\n",
        "  #dfsudeste2010.loc[filtro & filtro1]"
      ],
      "execution_count": null,
      "outputs": []
    },
    {
      "cell_type": "code",
      "metadata": {
        "id": "mKQd_kgOT7Sp"
      },
      "source": [
        "#Obtendo total de recomendações por cidade da região Sudeste\n",
        "\n",
        "dfsudeste2010.groupby([\"ocorrencia_cidade\"]).total_recomendacoes.sum()\n",
        "\n",
        "#PS: nas colunas com valores não informados, deve ser utilizado \"dropna=False\" para não haver conflito de valores\n",
        "  #dfsudeste2010.groupby([\"ocorrencia_aerodromo\"], dropna=False).total_recomendacoes.sum()"
      ],
      "execution_count": null,
      "outputs": []
    },
    {
      "cell_type": "code",
      "metadata": {
        "colab": {
          "base_uri": "https://localhost:8080/"
        },
        "id": "AzHPHUdsWFxZ",
        "outputId": "8cfc4c89-cf95-4e08-db5e-bc8c529b7487"
      },
      "source": [
        "#Obter cidades da região Sudeste que possuem uma ou mais recomendações\n",
        "\n",
        "filtro = dfsudeste2010.total_recomendacoes > 0\n",
        "dfsudeste2010.loc[filtro].groupby([\"ocorrencia_cidade\"]).total_recomendacoes.sum()"
      ],
      "execution_count": 44,
      "outputs": [
        {
          "output_type": "execute_result",
          "data": {
            "text/plain": [
              "ocorrencia_cidade\n",
              "BELO HORIZONTE            2\n",
              "BOITUVA                   1\n",
              "BOM JESUS DO GALHO        1\n",
              "BRAGANÇA PAULISTA         9\n",
              "CAMANDUCAIA               9\n",
              "IPERÓ                     3\n",
              "ITANHAÉM                  1\n",
              "JUNDIAÍ                   7\n",
              "NOVO HORIZONTE            3\n",
              "RESENDE                   8\n",
              "RIO DE JANEIRO           25\n",
              "SÃO BERNARDO DO CAMPO     2\n",
              "SÃO PAULO                41\n",
              "TIMÓTEO                   3\n",
              "Name: total_recomendacoes, dtype: int64"
            ]
          },
          "metadata": {
            "tags": []
          },
          "execution_count": 44
        }
      ]
    },
    {
      "cell_type": "code",
      "metadata": {
        "id": "dMcMQBcKbAVE"
      },
      "source": [
        "#Agrupar nas cidades o total de recomendações por mês\n",
        "\n",
        "dfsudeste2010.loc[filtro].groupby([\"ocorrencia_cidade\", dfsudeste2010.ocorrencia_dia.dt.month]).total_recomendacoes.sum()\n",
        "\n",
        "#Verificar se número retornado está correto\n",
        "  #filtro = dfsudeste2010.total_recomendacoes > 0\n",
        "  #filtro1 = dfsudeste2010.ocorrencia_cidade == \"SÃO PAULO\"\n",
        "  #dfsudeste2010.loc[filtro & filtro1]"
      ],
      "execution_count": null,
      "outputs": []
    }
  ]
}